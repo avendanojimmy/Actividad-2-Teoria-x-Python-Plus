{
 "cells": [
  {
   "cell_type": "markdown",
   "metadata": {},
   "source": [
    "Nombre: Jimmy Avendaño"
   ]
  },
  {
   "cell_type": "markdown",
   "metadata": {},
   "source": [
    "Parte 1"
   ]
  },
  {
   "cell_type": "markdown",
   "metadata": {},
   "source": [
    "Enunciado 1: dado el archivo de registros de jugadas (eventos) de MemPy,\r\n",
    "mostrar un gráfico con el porcentaje de partidas que se juegan los fines de semana (sábados y domingos)."
   ]
  },
  {
   "cell_type": "code",
   "execution_count": null,
   "metadata": {},
   "outputs": [],
   "source": [
    "import matplotlib.pyplot as plt\r\n",
    "import pandas as pd\r\n",
    "import os\r\n",
    "import collections\r\n",
    "from wordcloud import WordCloud\r\n",
    "from collections import Counter"
   ]
  },
  {
   "cell_type": "code",
   "execution_count": null,
   "metadata": {},
   "outputs": [],
   "source": [
    "\r\n",
    "def partidas_finde(partidas):\r\n",
    "    '''Funcion que evalua el porcentaje de partidas de jugadas los fines de semana y retorna un grafico del resultado'''\r\n",
    "    df_juego_dias = list(pd.to_datetime(partidas['Tiempo'], unit='ms').dt.strftime('%w'))\r\n",
    "    cont_dias = {item: cont for item,  cont in collections.Counter(df_juego_dias).items()}\r\n",
    "    plt.pie([cont_dias.get('6'), cont_dias.get('0')], labels=['Sabados', 'Domingos'], autopct='%1.1f%%', startangle=90)\r\n",
    "    plt.title('Porcentaje de partidas que se juegan los fines de semana')\r\n",
    "    return plt.gcf()"
   ]
  },
  {
   "cell_type": "code",
   "execution_count": null,
   "metadata": {},
   "outputs": [],
   "source": [
    "df_juego = pd.read_csv(os.path.join('data','plays_data.csv'))\r\n",
    "if len(df_juego) != 0:\r\n",
    "    partidas = df_juego[df_juego[\"Nombre de evento\"] == \"inicio_partida\"]\r\n",
    "    partidas_finde(partidas)"
   ]
  },
  {
   "cell_type": "markdown",
   "metadata": {},
   "source": [
    "Parte 2"
   ]
  },
  {
   "cell_type": "code",
   "execution_count": null,
   "metadata": {},
   "outputs": [],
   "source": [
    "df_players = pd.read_csv(os.path.join('data','players_fifa21.csv'))"
   ]
  },
  {
   "cell_type": "markdown",
   "metadata": {},
   "source": [
    "Criterio a utilizar: Los paises de los 25 jugadores con mayor potencial (FIFA21)"
   ]
  },
  {
   "cell_type": "code",
   "execution_count": null,
   "metadata": {},
   "outputs": [],
   "source": [
    "palabras = list(df_players.sort_values('Potential', ascending=False)[:25]['Nationality'])"
   ]
  },
  {
   "cell_type": "code",
   "execution_count": null,
   "metadata": {},
   "outputs": [],
   "source": [
    "dic = {item: cont for item,  cont in Counter(palabras).items()}"
   ]
  },
  {
   "cell_type": "code",
   "execution_count": null,
   "metadata": {},
   "outputs": [],
   "source": [
    "wordcloud = WordCloud(width=900,height=500).generate_from_frequencies(dic)\r\n",
    "plt.figure(figsize = (8, 8))\r\n",
    "plt.imshow(wordcloud)\r\n",
    "plt.axis(\"off\")\r\n",
    "plt.tight_layout(pad = 0)\r\n",
    "plt.show()"
   ]
  }
 ],
 "metadata": {
  "interpreter": {
   "hash": "7f6ee09c9edcd68cf0f9f2bd9ddf17695b0b9248e105cb5c0200c809faa57299"
  },
  "kernelspec": {
   "display_name": "Python 3.8.8 64-bit",
   "name": "python3"
  },
  "language_info": {
   "codemirror_mode": {
    "name": "ipython",
    "version": 3
   },
   "file_extension": ".py",
   "mimetype": "text/x-python",
   "name": "python",
   "nbconvert_exporter": "python",
   "pygments_lexer": "ipython3",
   "version": "3.8.8"
  },
  "orig_nbformat": 4
 },
 "nbformat": 4,
 "nbformat_minor": 2
}